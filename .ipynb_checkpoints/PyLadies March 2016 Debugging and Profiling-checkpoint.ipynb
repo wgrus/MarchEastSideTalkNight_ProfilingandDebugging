{
 "cells": [
  {
   "cell_type": "markdown",
   "metadata": {},
   "source": [
    "# Debugging and Profiling Python\n",
    "## Marcus D. Collins, Ph.D.\n",
    "Senior Scientist, Placed, Inc."
   ]
  },
  {
   "cell_type": "markdown",
   "metadata": {},
   "source": [
    "# My history with Python\n",
    "* I come from the land of C and FORTRAN\n",
    "* I am trained as a physicist and biophysicist, with almost no formal CS background.\n",
    "* I first used started using Python for image processing, about 15 years ago.\n",
    "* I've been writing Python daily for the last couple of years.\n",
    "* I now work as a Data Scientist, essentially interpreting human telemetry data in shopping contexts.\n",
    "* I have seen and used an actual working VT100 terminal, in my home.\n",
    "\n",
    "# Jupyter, the debugger, and profiling\n",
    "* This is the first time I've used Jupyter. People say it's good for presentations?\n",
    "* Remember: I come from the land of FORTRAN and C, before even IDEs were common.\n",
    "* I have come to love and rely on the debugger fairly recently. \n",
    "* Profiling code is vastly under-utilized.\n",
    "\n",
    "# An approximate outline\n",
    "* What is the role of a debugger? (<i> and the trap of scripting languages!!!</i>)\n",
    "* Avoiding the debugger: Tips on how to write manageable code from someone who writes a lot of unmanageable code.\n",
    "* BROKEN CODE!\n",
    "* What is the role of profiling, and when should I use it?\n",
    "* What to do when your code isss sooooo sloooowwwwwww.\n",
    "\n",
    "# Why use a debugger?\n",
    "## The temptation of scripting languages\n",
    "* We've all used `print(\"My integer is %d\" % myinteger)` in some form or other.\n",
    "* If you are like me, you have had that statement raise a `TypeError` because `myinteger = str(3)` was the actual underlying bug. \n",
    "* This is the most basic debugging\n",
    "* if you've ever read Apache GreatestThingEver logs, you'll recognize it's more sophisticated cousin `logging`.\n",
    "* I think it is a terrible habit, one that we got from the ease with which scripts can be run.\n",
    "* With tools like hadoop, it is sometimes the only way (AWS EMR was built for production, not development). \n",
    "* But it is slow, error prone, and doesn't allow realtime feedback.<p>\n",
    "### Lesson\n",
    "<b><i>We want to be able to make and test hypotheses of what's wrong in our code quickly!</i></b>\n",
    "\n",
    "## Understanding what our code is doing.\n",
    "* Often we make assumptions about what our code is doing that prove false.\n",
    "* Very often, we want to test what our code will do if we give it odd or bad input.\n",
    "### Lesson\n",
    "<b><i>The debugger is also a tool to quickly test for fragile code and edge cases:</i></b> we can run our setup, and then alter the input <i>in situ</i> to test how short fragments will behave. \n",
    "\n",
    "# But first: Avoid debugging in the first place.\n",
    "* Use a good IDE!\n",
    "  * I use PyCharm. Atom is okay. There's one that starts with S that seems to be good if you're a developer.\n",
    "  * Find one that does type checking, static error checking, PEP8.\n",
    "* Other modules\n",
    "  * PyLint and related tools are mostly style checkers, but they can be helpful.\n",
    "  * pyflakes does some error and type checking, looks for undeclared names... \n",
    "  * but really, get a good IDE.\n",
    "* TESTS!\n",
    "  * Tests are irritating from a Data Science perspective, because most of them are poorly designed.\n",
    "  * A good test does not have explicit input. A good test generates the input according to a model.\n",
    "  * A good test doesn't compare to explicit floating point numbers, unless it is testing the values of constants or distributions.\n",
    "  * A good test doesn't test that a model prediction doesn't change, it tests the logic of the model.\n",
    "  * <b><i> The best tests communicate the assumptions, required input, and function of the code.</i></b>\n",
    "* Comment your code.\n",
    "  * NO code is \"self documenting\". RTFCode is for arrogant losers. WTFComments is more like it.\n",
    "  * Only YOU think the way you do.\n",
    "  * Are you doing math? Using an even slightly unusual formula? <i>Cite references in your code!</i> For scientists especially, code is just as much an expression of your work as a journal article. Treat it that way.\n",
    "* Code reuse\n",
    "  * A common trap for Python programmers is that production types want to rewrite things in Java. <i>IF THIS HAPPENS TO YOU, you will need to write a test that compares their result to yours!</i> I say this from painful experience.\n",
    "  * \"Object obsfucation\": \n",
    "    * Remember that I come from a long-ago time, when `malloc` was a thing people dealt with regularly. \n",
    "    * I abhor classes, but I've learned to live with them. \n",
    "    * Don't fall into the class trap though--too much inheritance, especially chained inheritance, makes your code unreadable, and that is a recipe for bugs. \n",
    "\n",
    "# Enough! Let's run something!"
   ]
  },
  {
   "cell_type": "code",
   "execution_count": null,
   "metadata": {
    "collapsed": true
   },
   "outputs": [],
   "source": [
    "from scipy import sparse as sp\n",
    "import numpy as np\n",
    "from pandas import DataFrame\n",
    "\n",
    "r = np.random.random_sample(size=(500,15))\n",
    "r = r * (r < 0.2).astype(int)\n",
    "r = sp.csr_matrix(r)\n",
    "\n",
    "# Note the lack of a long line. I personally find it easier to read\n",
    "# if I can glance up and down, rather than try to read a long line.\n",
    "df = DataFrame(np.random.random_sample(size=(500,2)),         \n",
    "               columns=['A','B'])\n",
    "df['C'] = r  # hint, the error is here...\n",
    "thing1 = sp.csr_matrix(df.A.values)\n",
    "thing2 = sp.vstack(df.C.values)"
   ]
  },
  {
   "cell_type": "code",
   "execution_count": null,
   "metadata": {
    "collapsed": false
   },
   "outputs": [],
   "source": [
    "output = sp.hstack([thing1, thing2])  # Whooops!"
   ]
  },
  {
   "cell_type": "markdown",
   "metadata": {},
   "source": [
    "IPython integrates the python debugger, essentially running your code as `python -m pdb <i>somecode.py</i>` and giving you the `pdb>` prompt if you ask nicely <i>immediately</i> after an error: "
   ]
  },
  {
   "cell_type": "code",
   "execution_count": null,
   "metadata": {
    "collapsed": false
   },
   "outputs": [],
   "source": [
    "%debug"
   ]
  },
  {
   "cell_type": "markdown",
   "metadata": {},
   "source": [
    "Great, super cool. We can have a look around. \n",
    "\n",
    "Let's get familiar with some of the navigation in the ipython debugger (ipdb):\n",
    "\n",
    "Python, unlike may languages, displays a very nice <i><b>traceback</b></i> showing exactly which lines resulted in the error. We can move up and down the <i><b>call stack</b></i>:\n",
    "\n",
    "* <b>u</b>: up, the previous call in the traceback\n",
    "* <b>d</b>: down, the next call in the traceback.\n",
    "* <b>w</b>: show where in the call stack we are.\n",
    "* <b>c</b> or quit: exit the debugger and continue running the code.\n",
    "\n",
    "and we can step through the code line by line or into functions:\n",
    "* <b>n</b>: execute the next line of code, do not enter any function call\n",
    "* <b>s</b>: same as n but will enter (<b>s</b>tep into) any python function call.\n",
    "\n",
    "When doing this, it is easy to get lost:\n",
    "* <b>l</b> to see the code at the current location.\n",
    "* <b>a</b> shows you the current namespace (available variables).\n",
    "* <b>bt</b> (for back trace) show the current back trace again, in case you're disoriented.\n",
    "\n",
    "* <b>h</b> or <b>help</b> are always there for you too.\n",
    "\n",
    "At any level, all variables (including class and instance variables) that are available in that scope (but not surrounding or lower scopes) are available. \n",
    "\n",
    "<b><i>But what if we have a bug, not an error? Or we're not running in this fancy-pants notebook?</i></b>"
   ]
  },
  {
   "cell_type": "markdown",
   "metadata": {},
   "source": [
    "So now, we'll set a breakpoint. There are other ways to invoke the debugger, but this is probably the most useful in practice. When you find a place where your code breaks, you can set a breakpoint above it. Often, it makes sense to put it at the start of the last <i>block</i>, for instance, the first line of a for loop, or the first line of a class method. In our example, we'll set it at the start to demonstrate the basics, but it can be quite tedious to invoke the debugger too often."
   ]
  },
  {
   "cell_type": "code",
   "execution_count": null,
   "metadata": {
    "collapsed": false
   },
   "outputs": [],
   "source": [
    "%run script.py"
   ]
  },
  {
   "cell_type": "markdown",
   "metadata": {},
   "source": [
    "OOPS! You can't just type anything in the pdb! Some things are commands! Try again:"
   ]
  },
  {
   "cell_type": "code",
   "execution_count": null,
   "metadata": {
    "collapsed": false
   },
   "outputs": [],
   "source": [
    "%run script.py"
   ]
  },
  {
   "cell_type": "markdown",
   "metadata": {},
   "source": [
    "Some observations to help orient you:\n",
    "  1. The line of code you see is the one you are <i>about</i> to execute, not the last one executed. So any variable defined on that line isn't available yet.\n",
    "  2. Context is often helpful, remember <b>l</b>. \n",
    "  3. You always start way down in some module or class. Pandas for instance has unusually deep back traces. The meaningful bit may be quite a ways <b>u</b>p in the code.\n",
    "  4. If you are running with `python -m pdb somescript.py`, be aware that your error is actually caught by yet another layer--the pdb module itself.\n",
    "  5. When running a script wrapped by pdb, be aware that it will run through, and when it finishes, it will ask you if you want to start again. Type `quit` to get out. \n",
    "  \n",
    "And *REMEMBER* you can change the course of things by redefining variables within the pdb, to make it work, and keep looping until it does!\n",
    "\n",
    "*HOWEVER* you cannot edit the original source file and have pdb pick up the changes. "
   ]
  },
  {
   "cell_type": "markdown",
   "metadata": {},
   "source": [
    "# Profiling Python Code"
   ]
  },
  {
   "cell_type": "markdown",
   "metadata": {
    "collapsed": true
   },
   "source": [
    "# When should I profile?\n",
    "## Any time something takes longer than it takes to get a cup of coffee.\n",
    "* You can spend some time looking over your code to find obvious speed-ups. *BUT*\n",
    "* remember the adage: make your code work first, then make it fast <b><i>BUT</i></b>\n",
    "* making your code faster can help shorten your development cycle, SO:\n",
    "* I say, profile as you go, make small chunks work, and make them fast. Sometimes \"working\" means \"working in a reasonable amount of time.\"\n",
    "\n",
    "# How should I profile?\n",
    "## Visually: look for obvious speedups:\n",
    "* convert simple for loops to list contexts, dict contexts, set contexts\n",
    "* \n",
    "* numpy vs. pandas\n",
    "*...\n",
    "\n",
    "## the cProfile module\n",
    "*It's so easy!*"
   ]
  },
  {
   "cell_type": "code",
   "execution_count": null,
   "metadata": {
    "collapsed": false
   },
   "outputs": [],
   "source": [
    "%run -p -s cumulative script2.py"
   ]
  },
  {
   "cell_type": "markdown",
   "metadata": {},
   "source": [
    "## Some thoughts: because running all of this would be tedious, and I ran out of time...\n",
    "- cProfile works very well in IPython/Jupyter, but also works as the command line: `python -m cProfile -s cumulative`\n",
    "- cumulative mode is typically more useful. \n",
    "- Look for loops: loops in Python are reasonably inefficient.\n",
    "  - Use contexts instead. A lot can be done in a context:"
   ]
  },
  {
   "cell_type": "markdown",
   "metadata": {},
   "source": [
    "```\n",
    "data = []\n",
    "for i in gzip.open('file.gz'):\n",
    "    parse some complicated, nested, horrible object\n",
    "    compute some things\n",
    "    data.append(something in flat dict form)\n",
    "```\n",
    "df = pandas.DataFrame(data)\n",
    "Can easily be converted to:\n",
    "\n",
    "```df = pandas.DataFrame([parse(l) for l in gzip.open('file.gz')])```\n",
    "\n",
    "Woo! And there are `dict` contexts too! `{k:v for k,v in zip(keys, values)}` \n",
    "and *generator contexts*! `myiter = (x**2 in np.array([0,1,2,3,4]))`\n",
    "\n",
    "This is more compact, easier to read (I think) and *runs faster*.\n",
    "\n",
    "  - Remove extraneous code. We use lots of JSON object data, with newlines. People were obsessed with str.strip(). It is sloooow and totally unnecessary. json.loads() doesn't care. (Usually). There are lots of things like this you can look for.\n",
    "  \n",
    "  - *don't use classes*. Classes are slow because of how Python handles objects. \n",
    "  \n",
    "  - Avoid libraries that excessively use classes. (Wes McKinney I'm talking to you.)\n",
    "  \n",
    "  - Look for faster ways: there is so much Python I realized I don't know, or was stuck in a rut on. `\"\\t\".join(list)` is faster than \"item1\" + \"\\t\" + \"item2\", even for short lists.\n",
    "  \n",
    "  - Remember that anything you do in a loop is magnified. Using cProfile will help you see this.\n",
    "  \n",
    "  - Lambdas are slow!\n",
    "  \n",
    "  - For math, push yourself to use numpy's amazing broadcasting. It allows you to make large computations at absurd speed.\n",
    "\n",
    "This is super slow (even though it uses list contexts!):"
   ]
  },
  {
   "cell_type": "code",
   "execution_count": null,
   "metadata": {
    "collapsed": true
   },
   "outputs": [],
   "source": [
    "tsarray1 = np.random.random_sample(size=(100,))\n",
    "tsarray2 = np.random.random_sample(size=(100,))"
   ]
  },
  {
   "cell_type": "code",
   "execution_count": null,
   "metadata": {
    "collapsed": false
   },
   "outputs": [],
   "source": [
    "min([[min(ts1 - ts2) for ts1 in tsarray1] for ts2 in tsarray2])"
   ]
  },
  {
   "cell_type": "code",
   "execution_count": null,
   "metadata": {
    "collapsed": false
   },
   "outputs": [],
   "source": [
    "min([(tsarray2 - ts1) for ts1 in tsarray1])"
   ]
  },
  {
   "cell_type": "code",
   "execution_count": null,
   "metadata": {
    "collapsed": false
   },
   "outputs": [],
   "source": [
    "%debug"
   ]
  },
  {
   "cell_type": "code",
   "execution_count": null,
   "metadata": {
    "collapsed": false
   },
   "outputs": [],
   "source": [
    "%timeit min([min([ts1 - ts2 for ts1 in tsarray1]) for ts2 in tsarray2])"
   ]
  },
  {
   "cell_type": "code",
   "execution_count": null,
   "metadata": {
    "collapsed": false
   },
   "outputs": [],
   "source": [
    "%timeit min([min(tsarray1 - ts2) for ts2 in tsarray2])"
   ]
  },
  {
   "cell_type": "code",
   "execution_count": null,
   "metadata": {
    "collapsed": false
   },
   "outputs": [],
   "source": [
    "%timeit (tsarray1[:,np.newaxis] - tsarray2[np.newaxis, :]).min()"
   ]
  },
  {
   "cell_type": "markdown",
   "metadata": {},
   "source": [
    "  - If you absolutely must use a instance method function, consider making a static reference to it:\n",
    "`gb = dataframe.groupby` will essentially cache that function, preventing costly lookups. *Remember: avoid costly lookups by avoiding classes!*\n",
    "\n",
    "  - Avoid deepcopy! Get clever with slicing! Deepcopying objects is usually a mistake, it costs you memory and time. Learn better in-place algorithms to do what you need to do, or figure one out yourself.\n",
    "  \n",
    "## Cython\n",
    "Not today! Maybe next time! Very freeing. Can actually be run on pure python and will give some speedup."
   ]
  },
  {
   "cell_type": "code",
   "execution_count": null,
   "metadata": {
    "collapsed": true
   },
   "outputs": [],
   "source": []
  }
 ],
 "metadata": {
  "celltoolbar": "Raw Cell Format",
  "kernelspec": {
   "display_name": "py27",
   "language": "python",
   "name": "py27"
  },
  "language_info": {
   "codemirror_mode": {
    "name": "ipython",
    "version": 3
   },
   "file_extension": ".py",
   "mimetype": "text/x-python",
   "name": "python",
   "nbconvert_exporter": "python",
   "pygments_lexer": "ipython3",
   "version": "3.5.1"
  }
 },
 "nbformat": 4,
 "nbformat_minor": 0
}
