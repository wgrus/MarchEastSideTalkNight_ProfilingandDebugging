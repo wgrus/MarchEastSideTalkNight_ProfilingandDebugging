{
 "cells": [
  {
   "cell_type": "markdown",
   "metadata": {},
   "source": [
    "# Debugging and Profiling Python\n",
    "## Marcus D. Collins, Ph.D.\n",
    "Senior Scientist, Placed, Inc."
   ]
  },
  {
   "cell_type": "markdown",
   "metadata": {},
   "source": [
    "# My history with Python\n",
    "* I come from the land of C and FORTRAN\n",
    "* I am trained as a physicist and biophysicist, with almost no formal CS background.\n",
    "* I first used started using Python for image processing, about 15 years ago.\n",
    "* I've been writing Python daily for the last couple of years.\n",
    "* I now work as a Data Scientist, essentially interpreting human telemetry data in shopping contexts.\n",
    "* I have seen and used an actual working VT100 terminal, in my home.\n",
    "\n",
    "# Jupyter, the debugger, and profiling\n",
    "* This is the first time I've used Jupyter. People say it's good for presentations?\n",
    "* Remember: I come from the land of FORTRAN and C, before even IDEs were common.\n",
    "* I have come to love and rely on the debugger fairly recently. \n",
    "* Profiling code is vastly under-utilized.\n",
    "\n",
    "# An approximate outline\n",
    "* What is the role of a debugger? (<i> and the trap of scripting languages!!!</i>)\n",
    "* Avoiding the debugger: Tips on how to write manageable code from someone who writes a lot of unmanageable code.\n",
    "* BROKEN CODE!\n",
    "* What is the role of profiling, and when should I use it?\n",
    "* What to do when your code isss sooooo sloooowwwwwww.\n",
    "\n",
    "# Why use a debugger?\n",
    "## The temptation of scripting languages\n",
    "* We've all used `print(\"My integer is %d\" % myinteger)` in some form or other.\n",
    "* If you are like me, you have had that statement raise a `TypeError` because `myinteger = str(3)` was the actual underlying bug. \n",
    "* This is the most basic debugging\n",
    "* if you've ever read Apache GreatestThingEver logs, you'll recognize it's more sophisticated cousin `logging`.\n",
    "* I think it is a terrible habit, one that we got from the ease with which scripts can be run.\n",
    "* With tools like hadoop, it is sometimes the only way (AWS EMR was built for production, not development). \n",
    "* But it is slow, error prone, and doesn't allow realtime feedback.<p>\n",
    "### Lesson\n",
    "<b><i>We want to be able to make and test hypotheses of what's wrong in our code quickly!</i></b>\n",
    "\n",
    "## Understanding what our code is doing.\n",
    "* Often we make assumptions about what our code is doing that prove false.\n",
    "* Very often, we want to test what our code will do if we give it odd or bad input.\n",
    "### Lesson\n",
    "<b><i>The debugger is also a tool to quickly test for fragile code and edge cases:</i></b> we can run our setup, and then alter the input <i>in situ</i> to test how short fragments will behave. \n",
    "\n",
    "# But first: Avoid debugging in the first place.\n",
    "* Use a good IDE!\n",
    "  * I use PyCharm. Atom is okay. There's one that starts with S that seems to be good if you're a developer.\n",
    "  * Find one that does type checking, static error checking, PEP8.\n",
    "* Other modules\n",
    "  * PyLint and related tools are mostly style checkers, but they can be helpful.\n",
    "  * pyflakes does some error and type checking, looks for undeclared names... \n",
    "  * but really, get a good IDE.\n",
    "* TESTS!\n",
    "  * Tests are irritating from a Data Science perspective, because most of them are poorly designed.\n",
    "  * A good test does not have explicit input. A good test generates the input according to a model.\n",
    "  * A good test doesn't compare to explicit floating point numbers, unless it is testing the values of constants or distributions.\n",
    "  * A good test doesn't test that a model prediction doesn't change, it tests the logic of the model.\n",
    "  * <b><i> The best tests communicate the assumptions, required input, and function of the code.</i></b>\n",
    "* Comment your code.\n",
    "  * NO code is \"self documenting\". RTFCode is for arrogant losers. WTFComments is more like it.\n",
    "  * Only YOU think the way you do.\n",
    "  * Are you doing math? Using an even slightly unusual formula? <i>Cite references in your code!</i> For scientists especially, code is just as much an expression of your work as a journal article. Treat it that way.\n",
    "* Code reuse\n",
    "  * A common trap for Python programmers is that production types want to rewrite things in Java. <i>IF THIS HAPPENS TO YOU, you will need to write a test that compares their result to yours!</i> I say this from painful experience.\n",
    "  * \"Object obsfucation\": \n",
    "    * Remember that I come from a long-ago time, when `malloc` was a thing people dealt with regularly. \n",
    "    * I abhor classes, but I've learned to live with them. \n",
    "    * Don't fall into the class trap though--too much inheritance, especially chained inheritance, makes your code unreadable, and that is a recipe for bugs. \n",
    "\n",
    "# Enough! Let's run something!"
   ]
  },
  {
   "cell_type": "code",
   "execution_count": 4,
   "metadata": {
    "collapsed": true
   },
   "outputs": [],
   "source": [
    "from scipy import sparse as sp\n",
    "import numpy as np\n",
    "from pandas import DataFrame\n",
    "\n",
    "r = np.random.random_sample(size=(500,15))\n",
    "r = r * (r < 0.2).astype(int)\n",
    "r = sp.csr_matrix(r)\n",
    "\n",
    "# Note the lack of a long line. I personally find it easier to read\n",
    "# if I can glance up and down, rather than try to read a long line.\n",
    "df = DataFrame(np.random.random_sample(size=(500,2)),         \n",
    "               columns=['A','B'])\n",
    "df['C'] = r  # hint, the error is here...\n",
    "thing1 = sp.csr_matrix(df.A.values)\n",
    "thing2 = sp.vstack(df.C.values)"
   ]
  },
  {
   "cell_type": "code",
   "execution_count": 31,
   "metadata": {
    "collapsed": false
   },
   "outputs": [
    {
     "ename": "ValueError",
     "evalue": "blocks[0,:] has incompatible row dimensions",
     "output_type": "error",
     "traceback": [
      "\u001b[1;31m---------------------------------------------------------------------------\u001b[0m",
      "\u001b[1;31mValueError\u001b[0m                                Traceback (most recent call last)",
      "\u001b[1;32m<ipython-input-31-b57d6f8ec906>\u001b[0m in \u001b[0;36m<module>\u001b[1;34m()\u001b[0m\n\u001b[1;32m----> 1\u001b[1;33m \u001b[0moutput\u001b[0m \u001b[1;33m=\u001b[0m \u001b[0msp\u001b[0m\u001b[1;33m.\u001b[0m\u001b[0mhstack\u001b[0m\u001b[1;33m(\u001b[0m\u001b[1;33m[\u001b[0m\u001b[0mthing1\u001b[0m\u001b[1;33m,\u001b[0m \u001b[0mthing2\u001b[0m\u001b[1;33m]\u001b[0m\u001b[1;33m)\u001b[0m  \u001b[1;31m# Whooops!\u001b[0m\u001b[1;33m\u001b[0m\u001b[0m\n\u001b[0m",
      "\u001b[1;32m/home/marcus/virtual/IPTEST/local/lib/python2.7/site-packages/scipy/sparse/construct.pyc\u001b[0m in \u001b[0;36mhstack\u001b[1;34m(blocks, format, dtype)\u001b[0m\n\u001b[0;32m    389\u001b[0m \u001b[1;33m\u001b[0m\u001b[0m\n\u001b[0;32m    390\u001b[0m     \"\"\"\n\u001b[1;32m--> 391\u001b[1;33m     \u001b[1;32mreturn\u001b[0m \u001b[0mbmat\u001b[0m\u001b[1;33m(\u001b[0m\u001b[1;33m[\u001b[0m\u001b[0mblocks\u001b[0m\u001b[1;33m]\u001b[0m\u001b[1;33m,\u001b[0m \u001b[0mformat\u001b[0m\u001b[1;33m=\u001b[0m\u001b[0mformat\u001b[0m\u001b[1;33m,\u001b[0m \u001b[0mdtype\u001b[0m\u001b[1;33m=\u001b[0m\u001b[0mdtype\u001b[0m\u001b[1;33m)\u001b[0m\u001b[1;33m\u001b[0m\u001b[0m\n\u001b[0m\u001b[0;32m    392\u001b[0m \u001b[1;33m\u001b[0m\u001b[0m\n\u001b[0;32m    393\u001b[0m \u001b[1;32mdef\u001b[0m \u001b[0mvstack\u001b[0m\u001b[1;33m(\u001b[0m\u001b[0mblocks\u001b[0m\u001b[1;33m,\u001b[0m \u001b[0mformat\u001b[0m\u001b[1;33m=\u001b[0m\u001b[0mNone\u001b[0m\u001b[1;33m,\u001b[0m \u001b[0mdtype\u001b[0m\u001b[1;33m=\u001b[0m\u001b[0mNone\u001b[0m\u001b[1;33m)\u001b[0m\u001b[1;33m:\u001b[0m\u001b[1;33m\u001b[0m\u001b[0m\n",
      "\u001b[1;32m/home/marcus/virtual/IPTEST/local/lib/python2.7/site-packages/scipy/sparse/construct.pyc\u001b[0m in \u001b[0;36mbmat\u001b[1;34m(blocks, format, dtype)\u001b[0m\n\u001b[0;32m    487\u001b[0m                 \u001b[1;32melse\u001b[0m\u001b[1;33m:\u001b[0m\u001b[1;33m\u001b[0m\u001b[0m\n\u001b[0;32m    488\u001b[0m                     \u001b[1;32mif\u001b[0m \u001b[0mbrow_lengths\u001b[0m\u001b[1;33m[\u001b[0m\u001b[0mi\u001b[0m\u001b[1;33m]\u001b[0m \u001b[1;33m!=\u001b[0m \u001b[0mA\u001b[0m\u001b[1;33m.\u001b[0m\u001b[0mshape\u001b[0m\u001b[1;33m[\u001b[0m\u001b[1;36m0\u001b[0m\u001b[1;33m]\u001b[0m\u001b[1;33m:\u001b[0m\u001b[1;33m\u001b[0m\u001b[0m\n\u001b[1;32m--> 489\u001b[1;33m                         \u001b[1;32mraise\u001b[0m \u001b[0mValueError\u001b[0m\u001b[1;33m(\u001b[0m\u001b[1;34m'blocks[%d,:] has incompatible row dimensions'\u001b[0m \u001b[1;33m%\u001b[0m \u001b[0mi\u001b[0m\u001b[1;33m)\u001b[0m\u001b[1;33m\u001b[0m\u001b[0m\n\u001b[0m\u001b[0;32m    490\u001b[0m \u001b[1;33m\u001b[0m\u001b[0m\n\u001b[0;32m    491\u001b[0m                 \u001b[1;32mif\u001b[0m \u001b[0mbcol_lengths\u001b[0m\u001b[1;33m[\u001b[0m\u001b[0mj\u001b[0m\u001b[1;33m]\u001b[0m \u001b[1;33m==\u001b[0m \u001b[1;36m0\u001b[0m\u001b[1;33m:\u001b[0m\u001b[1;33m\u001b[0m\u001b[0m\n",
      "\u001b[1;31mValueError\u001b[0m: blocks[0,:] has incompatible row dimensions"
     ]
    }
   ],
   "source": [
    "output = sp.hstack([thing1, thing2])  # Whooops!"
   ]
  },
  {
   "cell_type": "markdown",
   "metadata": {},
   "source": [
    "IPython integrates the python debugger, essentially running your code as `python -m pdb <i>somecode.py</i>` and giving you the `pdb>` prompt if you ask nicely <i>immediately</i> after an error: "
   ]
  },
  {
   "cell_type": "code",
   "execution_count": 32,
   "metadata": {
    "collapsed": false
   },
   "outputs": [
    {
     "name": "stdout",
     "output_type": "stream",
     "text": [
      "> \u001b[1;32m/home/marcus/virtual/IPTEST/local/lib/python2.7/site-packages/scipy/sparse/construct.py\u001b[0m(489)\u001b[0;36mbmat\u001b[1;34m()\u001b[0m\n",
      "\u001b[1;32m    487 \u001b[1;33m                \u001b[1;32melse\u001b[0m\u001b[1;33m:\u001b[0m\u001b[1;33m\u001b[0m\u001b[0m\n",
      "\u001b[0m\u001b[1;32m    488 \u001b[1;33m                    \u001b[1;32mif\u001b[0m \u001b[0mbrow_lengths\u001b[0m\u001b[1;33m[\u001b[0m\u001b[0mi\u001b[0m\u001b[1;33m]\u001b[0m \u001b[1;33m!=\u001b[0m \u001b[0mA\u001b[0m\u001b[1;33m.\u001b[0m\u001b[0mshape\u001b[0m\u001b[1;33m[\u001b[0m\u001b[1;36m0\u001b[0m\u001b[1;33m]\u001b[0m\u001b[1;33m:\u001b[0m\u001b[1;33m\u001b[0m\u001b[0m\n",
      "\u001b[0m\u001b[1;32m--> 489 \u001b[1;33m                        \u001b[1;32mraise\u001b[0m \u001b[0mValueError\u001b[0m\u001b[1;33m(\u001b[0m\u001b[1;34m'blocks[%d,:] has incompatible row dimensions'\u001b[0m \u001b[1;33m%\u001b[0m \u001b[0mi\u001b[0m\u001b[1;33m)\u001b[0m\u001b[1;33m\u001b[0m\u001b[0m\n",
      "\u001b[0m\u001b[1;32m    490 \u001b[1;33m\u001b[1;33m\u001b[0m\u001b[0m\n",
      "\u001b[0m\u001b[1;32m    491 \u001b[1;33m                \u001b[1;32mif\u001b[0m \u001b[0mbcol_lengths\u001b[0m\u001b[1;33m[\u001b[0m\u001b[0mj\u001b[0m\u001b[1;33m]\u001b[0m \u001b[1;33m==\u001b[0m \u001b[1;36m0\u001b[0m\u001b[1;33m:\u001b[0m\u001b[1;33m\u001b[0m\u001b[0m\n",
      "\u001b[0m\n",
      "ipdb> u\n",
      "> \u001b[1;32m/home/marcus/virtual/IPTEST/local/lib/python2.7/site-packages/scipy/sparse/construct.py\u001b[0m(391)\u001b[0;36mhstack\u001b[1;34m()\u001b[0m\n",
      "\u001b[1;32m    389 \u001b[1;33m\u001b[1;33m\u001b[0m\u001b[0m\n",
      "\u001b[0m\u001b[1;32m    390 \u001b[1;33m    \"\"\"\n",
      "\u001b[0m\u001b[1;32m--> 391 \u001b[1;33m    \u001b[1;32mreturn\u001b[0m \u001b[0mbmat\u001b[0m\u001b[1;33m(\u001b[0m\u001b[1;33m[\u001b[0m\u001b[0mblocks\u001b[0m\u001b[1;33m]\u001b[0m\u001b[1;33m,\u001b[0m \u001b[0mformat\u001b[0m\u001b[1;33m=\u001b[0m\u001b[0mformat\u001b[0m\u001b[1;33m,\u001b[0m \u001b[0mdtype\u001b[0m\u001b[1;33m=\u001b[0m\u001b[0mdtype\u001b[0m\u001b[1;33m)\u001b[0m\u001b[1;33m\u001b[0m\u001b[0m\n",
      "\u001b[0m\u001b[1;32m    392 \u001b[1;33m\u001b[1;33m\u001b[0m\u001b[0m\n",
      "\u001b[0m\u001b[1;32m    393 \u001b[1;33m\u001b[1;32mdef\u001b[0m \u001b[0mvstack\u001b[0m\u001b[1;33m(\u001b[0m\u001b[0mblocks\u001b[0m\u001b[1;33m,\u001b[0m \u001b[0mformat\u001b[0m\u001b[1;33m=\u001b[0m\u001b[0mNone\u001b[0m\u001b[1;33m,\u001b[0m \u001b[0mdtype\u001b[0m\u001b[1;33m=\u001b[0m\u001b[0mNone\u001b[0m\u001b[1;33m)\u001b[0m\u001b[1;33m:\u001b[0m\u001b[1;33m\u001b[0m\u001b[0m\n",
      "\u001b[0m\n",
      "ipdb> u\n",
      "> \u001b[1;32m<ipython-input-31-b57d6f8ec906>\u001b[0m(1)\u001b[0;36m<module>\u001b[1;34m()\u001b[0m\n",
      "\u001b[1;32m----> 1 \u001b[1;33m\u001b[0moutput\u001b[0m \u001b[1;33m=\u001b[0m \u001b[0msp\u001b[0m\u001b[1;33m.\u001b[0m\u001b[0mhstack\u001b[0m\u001b[1;33m(\u001b[0m\u001b[1;33m[\u001b[0m\u001b[0mthing1\u001b[0m\u001b[1;33m,\u001b[0m \u001b[0mthing2\u001b[0m\u001b[1;33m]\u001b[0m\u001b[1;33m)\u001b[0m  \u001b[1;31m# Whooops!\u001b[0m\u001b[1;33m\u001b[0m\u001b[0m\n",
      "\u001b[0m\n",
      "ipdb> df['C'].ix[0]\n",
      "<1x15 sparse matrix of type '<type 'numpy.float64'>'\n",
      "\twith 5 stored elements in Compressed Sparse Row format>\n",
      "ipdb> pd.__version__\n",
      "'0.15.1'\n",
      "ipdb> quit\n"
     ]
    }
   ],
   "source": [
    "%debug"
   ]
  },
  {
   "cell_type": "markdown",
   "metadata": {},
   "source": [
    "Great, super cool. We can have a look around. \n",
    "\n",
    "Let's get familiar with some of the navigation in the ipython debugger (ipdb):\n",
    "\n",
    "Python, unlike may languages, displays a very nice <i><b>traceback</b></i> showing exactly which lines resulted in the error. We can move up and down the <i><b>call stack</b></i>:\n",
    "\n",
    "* <b>u</b>: up, the previous call in the traceback\n",
    "* <b>d</b>: down, the next call in the traceback.\n",
    "* <b>w</b>: show where in the call stack we are.\n",
    "* <b>c</b> or quit: exit the debugger and continue running the code.\n",
    "\n",
    "and we can step through the code line by line or into functions:\n",
    "* <b>n</b>: execute the next line of code, do not enter any function call\n",
    "* <b>s</b>: same as n but will enter (<b>s</b>tep into) any python function call.\n",
    "\n",
    "When doing this, it is easy to get lost:\n",
    "* <b>l</b> to see the code at the current location.\n",
    "* <b>a</b> shows you the current namespace (available variables).\n",
    "* <b>bt</b> (for back trace) show the current back trace again, in case you're disoriented.\n",
    "\n",
    "* <b>h</b> or <b>help</b> are always there for you too.\n",
    "\n",
    "At any level, all variables (including class and instance variables) that are available in that scope (but not surrounding or lower scopes) are available. \n",
    "\n",
    "<b><i>But what if we have a bug, not an error? Or we're not running in this fancy-pants notebook?</i></b>"
   ]
  },
  {
   "cell_type": "markdown",
   "metadata": {},
   "source": [
    "So now, we'll set a breakpoint. There are other ways to invoke the debugger, but this is probably the most useful in practice. When you find a place where your code breaks, you can set a breakpoint above it. Often, it makes sense to put it at the start of the last <i>block</i>, for instance, the first line of a for loop, or the first line of a class method. In our example, we'll set it at the start to demonstrate the basics, but it can be quite tedious to invoke the debugger too often."
   ]
  },
  {
   "cell_type": "code",
   "execution_count": 34,
   "metadata": {
    "collapsed": false
   },
   "outputs": [
    {
     "ename": "ValueError",
     "evalue": "blocks[0,:] has incompatible row dimensions",
     "output_type": "error",
     "traceback": [
      "\u001b[1;31m---------------------------------------------------------------------------\u001b[0m",
      "\u001b[1;31mValueError\u001b[0m                                Traceback (most recent call last)",
      "\u001b[1;32m/home/marcus/pyladies/script.py\u001b[0m in \u001b[0;36m<module>\u001b[1;34m()\u001b[0m\n\u001b[0;32m     18\u001b[0m \u001b[0mthing2\u001b[0m \u001b[1;33m=\u001b[0m \u001b[0msp\u001b[0m\u001b[1;33m.\u001b[0m\u001b[0mvstack\u001b[0m\u001b[1;33m(\u001b[0m\u001b[0mdf\u001b[0m\u001b[1;33m.\u001b[0m\u001b[0mC\u001b[0m\u001b[1;33m.\u001b[0m\u001b[0mvalues\u001b[0m\u001b[1;33m)\u001b[0m\u001b[1;33m\u001b[0m\u001b[0m\n\u001b[0;32m     19\u001b[0m \u001b[1;33m\u001b[0m\u001b[0m\n\u001b[1;32m---> 20\u001b[1;33m \u001b[0moutput\u001b[0m \u001b[1;33m=\u001b[0m \u001b[0msp\u001b[0m\u001b[1;33m.\u001b[0m\u001b[0mhstack\u001b[0m\u001b[1;33m(\u001b[0m\u001b[1;33m[\u001b[0m\u001b[0mthing1\u001b[0m\u001b[1;33m,\u001b[0m \u001b[0mthing2\u001b[0m\u001b[1;33m]\u001b[0m\u001b[1;33m)\u001b[0m\u001b[1;33m\u001b[0m\u001b[0m\n\u001b[0m",
      "\u001b[1;32m/home/marcus/virtual/IPTEST/local/lib/python2.7/site-packages/scipy/sparse/construct.pyc\u001b[0m in \u001b[0;36mhstack\u001b[1;34m(blocks, format, dtype)\u001b[0m\n\u001b[0;32m    389\u001b[0m \u001b[1;33m\u001b[0m\u001b[0m\n\u001b[0;32m    390\u001b[0m     \"\"\"\n\u001b[1;32m--> 391\u001b[1;33m     \u001b[1;32mreturn\u001b[0m \u001b[0mbmat\u001b[0m\u001b[1;33m(\u001b[0m\u001b[1;33m[\u001b[0m\u001b[0mblocks\u001b[0m\u001b[1;33m]\u001b[0m\u001b[1;33m,\u001b[0m \u001b[0mformat\u001b[0m\u001b[1;33m=\u001b[0m\u001b[0mformat\u001b[0m\u001b[1;33m,\u001b[0m \u001b[0mdtype\u001b[0m\u001b[1;33m=\u001b[0m\u001b[0mdtype\u001b[0m\u001b[1;33m)\u001b[0m\u001b[1;33m\u001b[0m\u001b[0m\n\u001b[0m\u001b[0;32m    392\u001b[0m \u001b[1;33m\u001b[0m\u001b[0m\n\u001b[0;32m    393\u001b[0m \u001b[1;32mdef\u001b[0m \u001b[0mvstack\u001b[0m\u001b[1;33m(\u001b[0m\u001b[0mblocks\u001b[0m\u001b[1;33m,\u001b[0m \u001b[0mformat\u001b[0m\u001b[1;33m=\u001b[0m\u001b[0mNone\u001b[0m\u001b[1;33m,\u001b[0m \u001b[0mdtype\u001b[0m\u001b[1;33m=\u001b[0m\u001b[0mNone\u001b[0m\u001b[1;33m)\u001b[0m\u001b[1;33m:\u001b[0m\u001b[1;33m\u001b[0m\u001b[0m\n",
      "\u001b[1;32m/home/marcus/virtual/IPTEST/local/lib/python2.7/site-packages/scipy/sparse/construct.pyc\u001b[0m in \u001b[0;36mbmat\u001b[1;34m(blocks, format, dtype)\u001b[0m\n\u001b[0;32m    487\u001b[0m                 \u001b[1;32melse\u001b[0m\u001b[1;33m:\u001b[0m\u001b[1;33m\u001b[0m\u001b[0m\n\u001b[0;32m    488\u001b[0m                     \u001b[1;32mif\u001b[0m \u001b[0mbrow_lengths\u001b[0m\u001b[1;33m[\u001b[0m\u001b[0mi\u001b[0m\u001b[1;33m]\u001b[0m \u001b[1;33m!=\u001b[0m \u001b[0mA\u001b[0m\u001b[1;33m.\u001b[0m\u001b[0mshape\u001b[0m\u001b[1;33m[\u001b[0m\u001b[1;36m0\u001b[0m\u001b[1;33m]\u001b[0m\u001b[1;33m:\u001b[0m\u001b[1;33m\u001b[0m\u001b[0m\n\u001b[1;32m--> 489\u001b[1;33m                         \u001b[1;32mraise\u001b[0m \u001b[0mValueError\u001b[0m\u001b[1;33m(\u001b[0m\u001b[1;34m'blocks[%d,:] has incompatible row dimensions'\u001b[0m \u001b[1;33m%\u001b[0m \u001b[0mi\u001b[0m\u001b[1;33m)\u001b[0m\u001b[1;33m\u001b[0m\u001b[0m\n\u001b[0m\u001b[0;32m    490\u001b[0m \u001b[1;33m\u001b[0m\u001b[0m\n\u001b[0;32m    491\u001b[0m                 \u001b[1;32mif\u001b[0m \u001b[0mbcol_lengths\u001b[0m\u001b[1;33m[\u001b[0m\u001b[0mj\u001b[0m\u001b[1;33m]\u001b[0m \u001b[1;33m==\u001b[0m \u001b[1;36m0\u001b[0m\u001b[1;33m:\u001b[0m\u001b[1;33m\u001b[0m\u001b[0m\n",
      "\u001b[1;31mValueError\u001b[0m: blocks[0,:] has incompatible row dimensions"
     ]
    }
   ],
   "source": [
    "%run script.py"
   ]
  },
  {
   "cell_type": "markdown",
   "metadata": {},
   "source": [
    "OOPS! You can't just type anything in the pdb! Some things are commands! Try again:"
   ]
  },
  {
   "cell_type": "code",
   "execution_count": 36,
   "metadata": {
    "collapsed": false
   },
   "outputs": [
    {
     "name": "stdout",
     "output_type": "stream",
     "text": [
      "> /home/marcus/pyladies/script.py(11)<module>()\n",
      "-> r = r * (r < 0.2).astype(int)\n",
      "(Pdb) print r\n",
      "[[ 0.26875702  0.78156342  0.5191541  ...,  0.53270272  0.95403293\n",
      "   0.0345442 ]\n",
      " [ 0.38015038  0.504218    0.11425369 ...,  0.95339391  0.40322888\n",
      "   0.37616339]\n",
      " [ 0.94012001  0.17384152  0.38398771 ...,  0.29083631  0.69258176\n",
      "   0.48843051]\n",
      " ..., \n",
      " [ 0.77112158  0.78840637  0.2680866  ...,  0.80123618  0.36078602\n",
      "   0.57794764]\n",
      " [ 0.56212088  0.19646672  0.17092477 ...,  0.4652415   0.01796785\n",
      "   0.76890592]\n",
      " [ 0.82946305  0.68115492  0.5279345  ...,  0.55681231  0.63164835\n",
      "   0.76600214]]\n",
      "(Pdb) n\n",
      "> /home/marcus/pyladies/script.py(12)<module>()\n",
      "-> r = sp.csr_matrix(r)\n",
      "(Pdb) print r\n",
      "[[ 0.          0.          0.         ...,  0.          0.          0.0345442 ]\n",
      " [ 0.          0.          0.11425369 ...,  0.          0.          0.        ]\n",
      " [ 0.          0.17384152  0.         ...,  0.          0.          0.        ]\n",
      " ..., \n",
      " [ 0.          0.          0.         ...,  0.          0.          0.        ]\n",
      " [ 0.          0.19646672  0.17092477 ...,  0.          0.01796785  0.        ]\n",
      " [ 0.          0.          0.         ...,  0.          0.          0.        ]]\n",
      "(Pdb) n\n",
      "> /home/marcus/pyladies/script.py(14)<module>()\n",
      "-> df = DataFrame(np.random.random_sample(size=(500,2)),\n",
      "(Pdb) n\n",
      "> /home/marcus/pyladies/script.py(15)<module>()\n",
      "-> columns=['A','B'])\n",
      "(Pdb) n\n",
      "> /home/marcus/pyladies/script.py(16)<module>()\n",
      "-> df['C'] = r\n",
      "(Pdb) print df\n",
      "            A         B\n",
      "0    0.031222  0.093948\n",
      "1    0.637303  0.801161\n",
      "2    0.662009  0.676550\n",
      "3    0.329105  0.017638\n",
      "4    0.525439  0.589440\n",
      "5    0.817803  0.591220\n",
      "6    0.881247  0.157076\n",
      "7    0.838027  0.202295\n",
      "8    0.985342  0.881209\n",
      "9    0.594378  0.581769\n",
      "10   0.617907  0.563391\n",
      "11   0.477919  0.869854\n",
      "12   0.122889  0.492392\n",
      "13   0.685658  0.720106\n",
      "14   0.842262  0.894408\n",
      "15   0.982178  0.924448\n",
      "16   0.318960  0.679715\n",
      "17   0.421364  0.619490\n",
      "18   0.130952  0.830590\n",
      "19   0.914785  0.052049\n",
      "20   0.606715  0.527212\n",
      "21   0.142840  0.948705\n",
      "22   0.068735  0.704740\n",
      "23   0.873449  0.180448\n",
      "24   0.408063  0.779354\n",
      "25   0.963069  0.534490\n",
      "26   0.773339  0.578692\n",
      "27   0.320469  0.175156\n",
      "28   0.817000  0.520880\n",
      "29   0.186889  0.267563\n",
      "..        ...       ...\n",
      "470  0.867589  0.970839\n",
      "471  0.364800  0.800797\n",
      "472  0.163268  0.323599\n",
      "473  0.017434  0.913931\n",
      "474  0.809359  0.583538\n",
      "475  0.846381  0.458540\n",
      "476  0.635304  0.483076\n",
      "477  0.246865  0.606865\n",
      "478  0.258195  0.887055\n",
      "479  0.260995  0.420467\n",
      "480  0.303973  0.219153\n",
      "481  0.574078  0.821149\n",
      "482  0.723954  0.944395\n",
      "483  0.132460  0.396545\n",
      "484  0.228517  0.816057\n",
      "485  0.430873  0.686209\n",
      "486  0.253992  0.589069\n",
      "487  0.899258  0.812221\n",
      "488  0.363181  0.948769\n",
      "489  0.645951  0.781276\n",
      "490  0.374173  0.681809\n",
      "491  0.256067  0.321260\n",
      "492  0.328329  0.204652\n",
      "493  0.208450  0.639210\n",
      "494  0.206641  0.478284\n",
      "495  0.675453  0.055944\n",
      "496  0.645095  0.147561\n",
      "497  0.866467  0.700283\n",
      "498  0.800037  0.750896\n",
      "499  0.168461  0.135898\n",
      "\n",
      "[500 rows x 2 columns]\n",
      "(Pdb) n\n",
      "> /home/marcus/pyladies/script.py(17)<module>()\n",
      "-> thing1 = sp.csr_matrix(df.A.values)\n",
      "(Pdb) n\n",
      "> /home/marcus/pyladies/script.py(18)<module>()\n",
      "-> thing2 = sp.vstack(df.C.values)\n",
      "(Pdb) n\n",
      "> /home/marcus/pyladies/script.py(20)<module>()\n",
      "-> output = sp.hstack([thing1, thing2])\n",
      "(Pdb) thing1.shape[0]\n",
      "1\n",
      "(Pdb) thing2.shape[1]\n",
      "15\n",
      "(Pdb) thing2.shape[0]\n",
      "250000\n",
      "(Pdb) quit\n"
     ]
    },
    {
     "ename": "BdbQuit",
     "evalue": "",
     "output_type": "error",
     "traceback": [
      "\u001b[1;31m---------------------------------------------------------------------------\u001b[0m",
      "\u001b[1;31mBdbQuit\u001b[0m                                   Traceback (most recent call last)",
      "\u001b[1;32m/home/marcus/pyladies/script.py\u001b[0m in \u001b[0;36m<module>\u001b[1;34m()\u001b[0m\n\u001b[0;32m     18\u001b[0m \u001b[0mthing2\u001b[0m \u001b[1;33m=\u001b[0m \u001b[0msp\u001b[0m\u001b[1;33m.\u001b[0m\u001b[0mvstack\u001b[0m\u001b[1;33m(\u001b[0m\u001b[0mdf\u001b[0m\u001b[1;33m.\u001b[0m\u001b[0mC\u001b[0m\u001b[1;33m.\u001b[0m\u001b[0mvalues\u001b[0m\u001b[1;33m)\u001b[0m\u001b[1;33m\u001b[0m\u001b[0m\n\u001b[0;32m     19\u001b[0m \u001b[1;33m\u001b[0m\u001b[0m\n\u001b[1;32m---> 20\u001b[1;33m \u001b[0moutput\u001b[0m \u001b[1;33m=\u001b[0m \u001b[0msp\u001b[0m\u001b[1;33m.\u001b[0m\u001b[0mhstack\u001b[0m\u001b[1;33m(\u001b[0m\u001b[1;33m[\u001b[0m\u001b[0mthing1\u001b[0m\u001b[1;33m,\u001b[0m \u001b[0mthing2\u001b[0m\u001b[1;33m]\u001b[0m\u001b[1;33m)\u001b[0m\u001b[1;33m\u001b[0m\u001b[0m\n\u001b[0m",
      "\u001b[1;32m/home/marcus/pyladies/script.py\u001b[0m in \u001b[0;36m<module>\u001b[1;34m()\u001b[0m\n\u001b[0;32m     18\u001b[0m \u001b[0mthing2\u001b[0m \u001b[1;33m=\u001b[0m \u001b[0msp\u001b[0m\u001b[1;33m.\u001b[0m\u001b[0mvstack\u001b[0m\u001b[1;33m(\u001b[0m\u001b[0mdf\u001b[0m\u001b[1;33m.\u001b[0m\u001b[0mC\u001b[0m\u001b[1;33m.\u001b[0m\u001b[0mvalues\u001b[0m\u001b[1;33m)\u001b[0m\u001b[1;33m\u001b[0m\u001b[0m\n\u001b[0;32m     19\u001b[0m \u001b[1;33m\u001b[0m\u001b[0m\n\u001b[1;32m---> 20\u001b[1;33m \u001b[0moutput\u001b[0m \u001b[1;33m=\u001b[0m \u001b[0msp\u001b[0m\u001b[1;33m.\u001b[0m\u001b[0mhstack\u001b[0m\u001b[1;33m(\u001b[0m\u001b[1;33m[\u001b[0m\u001b[0mthing1\u001b[0m\u001b[1;33m,\u001b[0m \u001b[0mthing2\u001b[0m\u001b[1;33m]\u001b[0m\u001b[1;33m)\u001b[0m\u001b[1;33m\u001b[0m\u001b[0m\n\u001b[0m",
      "\u001b[1;32m/usr/lib/python2.7/bdb.py\u001b[0m in \u001b[0;36mtrace_dispatch\u001b[1;34m(self, frame, event, arg)\u001b[0m\n\u001b[0;32m     47\u001b[0m             \u001b[1;32mreturn\u001b[0m \u001b[1;31m# None\u001b[0m\u001b[1;33m\u001b[0m\u001b[0m\n\u001b[0;32m     48\u001b[0m         \u001b[1;32mif\u001b[0m \u001b[0mevent\u001b[0m \u001b[1;33m==\u001b[0m \u001b[1;34m'line'\u001b[0m\u001b[1;33m:\u001b[0m\u001b[1;33m\u001b[0m\u001b[0m\n\u001b[1;32m---> 49\u001b[1;33m             \u001b[1;32mreturn\u001b[0m \u001b[0mself\u001b[0m\u001b[1;33m.\u001b[0m\u001b[0mdispatch_line\u001b[0m\u001b[1;33m(\u001b[0m\u001b[0mframe\u001b[0m\u001b[1;33m)\u001b[0m\u001b[1;33m\u001b[0m\u001b[0m\n\u001b[0m\u001b[0;32m     50\u001b[0m         \u001b[1;32mif\u001b[0m \u001b[0mevent\u001b[0m \u001b[1;33m==\u001b[0m \u001b[1;34m'call'\u001b[0m\u001b[1;33m:\u001b[0m\u001b[1;33m\u001b[0m\u001b[0m\n\u001b[0;32m     51\u001b[0m             \u001b[1;32mreturn\u001b[0m \u001b[0mself\u001b[0m\u001b[1;33m.\u001b[0m\u001b[0mdispatch_call\u001b[0m\u001b[1;33m(\u001b[0m\u001b[0mframe\u001b[0m\u001b[1;33m,\u001b[0m \u001b[0marg\u001b[0m\u001b[1;33m)\u001b[0m\u001b[1;33m\u001b[0m\u001b[0m\n",
      "\u001b[1;32m/usr/lib/python2.7/bdb.py\u001b[0m in \u001b[0;36mdispatch_line\u001b[1;34m(self, frame)\u001b[0m\n\u001b[0;32m     66\u001b[0m         \u001b[1;32mif\u001b[0m \u001b[0mself\u001b[0m\u001b[1;33m.\u001b[0m\u001b[0mstop_here\u001b[0m\u001b[1;33m(\u001b[0m\u001b[0mframe\u001b[0m\u001b[1;33m)\u001b[0m \u001b[1;32mor\u001b[0m \u001b[0mself\u001b[0m\u001b[1;33m.\u001b[0m\u001b[0mbreak_here\u001b[0m\u001b[1;33m(\u001b[0m\u001b[0mframe\u001b[0m\u001b[1;33m)\u001b[0m\u001b[1;33m:\u001b[0m\u001b[1;33m\u001b[0m\u001b[0m\n\u001b[0;32m     67\u001b[0m             \u001b[0mself\u001b[0m\u001b[1;33m.\u001b[0m\u001b[0muser_line\u001b[0m\u001b[1;33m(\u001b[0m\u001b[0mframe\u001b[0m\u001b[1;33m)\u001b[0m\u001b[1;33m\u001b[0m\u001b[0m\n\u001b[1;32m---> 68\u001b[1;33m             \u001b[1;32mif\u001b[0m \u001b[0mself\u001b[0m\u001b[1;33m.\u001b[0m\u001b[0mquitting\u001b[0m\u001b[1;33m:\u001b[0m \u001b[1;32mraise\u001b[0m \u001b[0mBdbQuit\u001b[0m\u001b[1;33m\u001b[0m\u001b[0m\n\u001b[0m\u001b[0;32m     69\u001b[0m         \u001b[1;32mreturn\u001b[0m \u001b[0mself\u001b[0m\u001b[1;33m.\u001b[0m\u001b[0mtrace_dispatch\u001b[0m\u001b[1;33m\u001b[0m\u001b[0m\n\u001b[0;32m     70\u001b[0m \u001b[1;33m\u001b[0m\u001b[0m\n",
      "\u001b[1;31mBdbQuit\u001b[0m: "
     ]
    }
   ],
   "source": [
    "%run script.py"
   ]
  },
  {
   "cell_type": "markdown",
   "metadata": {},
   "source": [
    "Some observations to help orient you:\n",
    "  1. The line of code you see is the one you are <i>about</i> to execute, not the last one executed. So any variable defined on that line isn't available yet.\n",
    "  2. Context is often helpful, remember <b>l</b>. \n",
    "  3. You always start way down in some module or class. Pandas for instance has unusually deep back traces. The meaningful bit may be quite a ways <b>u</b>p in the code.\n",
    "  4. If you are running with `python -m pdb somescript.py`, be aware that your error is actually caught by yet another layer--the pdb module itself.\n",
    "  5. When running a script wrapped by pdb, be aware that it will run through, and when it finishes, it will ask you if you want to start again. Type `quit` to get out. \n",
    "  \n",
    "And *REMEMBER* you can change the course of things by redefining variables within the pdb, to make it work, and keep looping until it does!\n",
    "\n",
    "*HOWEVER* you cannot edit the original source file and have pdb pick up the changes. "
   ]
  },
  {
   "cell_type": "markdown",
   "metadata": {},
   "source": [
    "# Profiling Python Code"
   ]
  },
  {
   "cell_type": "markdown",
   "metadata": {
    "collapsed": true
   },
   "source": [
    "# When should I profile?\n",
    "## Any time something takes longer than it takes to get a cup of coffee.\n",
    "* You can spend some time looking over your code to find obvious speed-ups. *BUT*\n",
    "* remember the adage: make your code work first, then make it fast <b><i>BUT</i></b>\n",
    "* making your code faster can help shorten your development cycle, SO:\n",
    "* I say, profile as you go, make small chunks work, and make them fast. Sometimes \"working\" means \"working in a reasonable amount of time.\"\n",
    "\n",
    "# How should I profile?\n",
    "## Visually: look for obvious speedups:\n",
    "* convert simple for loops to list contexts, dict contexts, set contexts\n",
    "* \n",
    "* numpy vs. pandas\n",
    "*...\n",
    "\n",
    "## the cProfile module\n",
    "*It's so easy!*"
   ]
  },
  {
   "cell_type": "code",
   "execution_count": 38,
   "metadata": {
    "collapsed": false
   },
   "outputs": [
    {
     "ename": "ValueError",
     "evalue": "blocks[0,:] has incompatible row dimensions",
     "output_type": "error",
     "traceback": [
      "\u001b[1;31m---------------------------------------------------------------------------\u001b[0m",
      "\u001b[1;31mValueError\u001b[0m                                Traceback (most recent call last)",
      "\u001b[1;32m/home/marcus/pyladies/script2.py\u001b[0m in \u001b[0;36m<module>\u001b[1;34m()\u001b[0m\n\u001b[0;32m     19\u001b[0m \u001b[0mthing2\u001b[0m \u001b[1;33m=\u001b[0m \u001b[0msp\u001b[0m\u001b[1;33m.\u001b[0m\u001b[0mvstack\u001b[0m\u001b[1;33m(\u001b[0m\u001b[0mdf\u001b[0m\u001b[1;33m.\u001b[0m\u001b[0mC\u001b[0m\u001b[1;33m.\u001b[0m\u001b[0mvalues\u001b[0m\u001b[1;33m)\u001b[0m\u001b[1;33m\u001b[0m\u001b[0m\n\u001b[0;32m     20\u001b[0m \u001b[1;33m\u001b[0m\u001b[0m\n\u001b[1;32m---> 21\u001b[1;33m \u001b[0moutput\u001b[0m \u001b[1;33m=\u001b[0m \u001b[0msp\u001b[0m\u001b[1;33m.\u001b[0m\u001b[0mhstack\u001b[0m\u001b[1;33m(\u001b[0m\u001b[1;33m[\u001b[0m\u001b[0mthing1\u001b[0m\u001b[1;33m,\u001b[0m \u001b[0mthing2\u001b[0m\u001b[1;33m]\u001b[0m\u001b[1;33m)\u001b[0m\u001b[1;33m\u001b[0m\u001b[0m\n\u001b[0m",
      "\u001b[1;32m/home/marcus/virtual/IPTEST/local/lib/python2.7/site-packages/scipy/sparse/construct.pyc\u001b[0m in \u001b[0;36mhstack\u001b[1;34m(blocks, format, dtype)\u001b[0m\n\u001b[0;32m    389\u001b[0m \u001b[1;33m\u001b[0m\u001b[0m\n\u001b[0;32m    390\u001b[0m     \"\"\"\n\u001b[1;32m--> 391\u001b[1;33m     \u001b[1;32mreturn\u001b[0m \u001b[0mbmat\u001b[0m\u001b[1;33m(\u001b[0m\u001b[1;33m[\u001b[0m\u001b[0mblocks\u001b[0m\u001b[1;33m]\u001b[0m\u001b[1;33m,\u001b[0m \u001b[0mformat\u001b[0m\u001b[1;33m=\u001b[0m\u001b[0mformat\u001b[0m\u001b[1;33m,\u001b[0m \u001b[0mdtype\u001b[0m\u001b[1;33m=\u001b[0m\u001b[0mdtype\u001b[0m\u001b[1;33m)\u001b[0m\u001b[1;33m\u001b[0m\u001b[0m\n\u001b[0m\u001b[0;32m    392\u001b[0m \u001b[1;33m\u001b[0m\u001b[0m\n\u001b[0;32m    393\u001b[0m \u001b[1;32mdef\u001b[0m \u001b[0mvstack\u001b[0m\u001b[1;33m(\u001b[0m\u001b[0mblocks\u001b[0m\u001b[1;33m,\u001b[0m \u001b[0mformat\u001b[0m\u001b[1;33m=\u001b[0m\u001b[0mNone\u001b[0m\u001b[1;33m,\u001b[0m \u001b[0mdtype\u001b[0m\u001b[1;33m=\u001b[0m\u001b[0mNone\u001b[0m\u001b[1;33m)\u001b[0m\u001b[1;33m:\u001b[0m\u001b[1;33m\u001b[0m\u001b[0m\n",
      "\u001b[1;32m/home/marcus/virtual/IPTEST/local/lib/python2.7/site-packages/scipy/sparse/construct.pyc\u001b[0m in \u001b[0;36mbmat\u001b[1;34m(blocks, format, dtype)\u001b[0m\n\u001b[0;32m    487\u001b[0m                 \u001b[1;32melse\u001b[0m\u001b[1;33m:\u001b[0m\u001b[1;33m\u001b[0m\u001b[0m\n\u001b[0;32m    488\u001b[0m                     \u001b[1;32mif\u001b[0m \u001b[0mbrow_lengths\u001b[0m\u001b[1;33m[\u001b[0m\u001b[0mi\u001b[0m\u001b[1;33m]\u001b[0m \u001b[1;33m!=\u001b[0m \u001b[0mA\u001b[0m\u001b[1;33m.\u001b[0m\u001b[0mshape\u001b[0m\u001b[1;33m[\u001b[0m\u001b[1;36m0\u001b[0m\u001b[1;33m]\u001b[0m\u001b[1;33m:\u001b[0m\u001b[1;33m\u001b[0m\u001b[0m\n\u001b[1;32m--> 489\u001b[1;33m                         \u001b[1;32mraise\u001b[0m \u001b[0mValueError\u001b[0m\u001b[1;33m(\u001b[0m\u001b[1;34m'blocks[%d,:] has incompatible row dimensions'\u001b[0m \u001b[1;33m%\u001b[0m \u001b[0mi\u001b[0m\u001b[1;33m)\u001b[0m\u001b[1;33m\u001b[0m\u001b[0m\n\u001b[0m\u001b[0;32m    490\u001b[0m \u001b[1;33m\u001b[0m\u001b[0m\n\u001b[0;32m    491\u001b[0m                 \u001b[1;32mif\u001b[0m \u001b[0mbcol_lengths\u001b[0m\u001b[1;33m[\u001b[0m\u001b[0mj\u001b[0m\u001b[1;33m]\u001b[0m \u001b[1;33m==\u001b[0m \u001b[1;36m0\u001b[0m\u001b[1;33m:\u001b[0m\u001b[1;33m\u001b[0m\u001b[0m\n",
      "\u001b[1;31mValueError\u001b[0m: blocks[0,:] has incompatible row dimensions"
     ]
    },
    {
     "name": "stdout",
     "output_type": "stream",
     "text": [
      " "
     ]
    }
   ],
   "source": [
    "%run -p -s cumulative script2.py"
   ]
  },
  {
   "cell_type": "markdown",
   "metadata": {},
   "source": [
    "## Some thoughts: because running all of this would be tedious, and I ran out of time...\n",
    "- cProfile works very well in IPython/Jupyter, but also works as the command line: `python -m cProfile -s cumulative`\n",
    "- cumulative mode is typically more useful. \n",
    "- Look for loops: loops in Python are reasonably inefficient.\n",
    "  - Use contexts instead. A lot can be done in a context:"
   ]
  },
  {
   "cell_type": "markdown",
   "metadata": {},
   "source": [
    "```\n",
    "data = []\n",
    "for i in gzip.open('file.gz'):\n",
    "    parse some complicated, nested, horrible object\n",
    "    compute some things\n",
    "    data.append(something in flat dict form)\n",
    "```\n",
    "df = pandas.DataFrame(data)\n",
    "Can easily be converted to:\n",
    "\n",
    "```df = pandas.DataFrame([parse(l) for l in gzip.open('file.gz')])```\n",
    "\n",
    "Woo! And there are `dict` contexts too! `{k:v for k,v in zip(keys, values)}` \n",
    "and *generator contexts*! `myiter = (x**2 in np.array([0,1,2,3,4]))`\n",
    "\n",
    "This is more compact, easier to read (I think) and *runs faster*.\n",
    "\n",
    "  - Remove extraneous code. We use lots of JSON object data, with newlines. People were obsessed with str.strip(). It is sloooow and totally unnecessary. json.loads() doesn't care. (Usually). There are lots of things like this you can look for.\n",
    "  \n",
    "  - *don't use classes*. Classes are slow because of how Python handles objects. \n",
    "  \n",
    "  - Avoid libraries that excessively use classes. (Wes McKinney I'm talking to you.)\n",
    "  \n",
    "  - Look for faster ways: there is so much Python I realized I don't know, or was stuck in a rut on. `\"\\t\".join(list)` is faster than \"item1\" + \"\\t\" + \"item2\", even for short lists.\n",
    "  \n",
    "  - Remember that anything you do in a loop is magnified. Using cProfile will help you see this.\n",
    "  \n",
    "  - Lambdas are slow!\n",
    "  \n",
    "  - For math, push yourself to use numpy's amazing broadcasting. It allows you to make large computations at absurd speed.\n",
    "\n",
    "This is super slow (even though it uses list contexts!):"
   ]
  },
  {
   "cell_type": "code",
   "execution_count": 39,
   "metadata": {
    "collapsed": true
   },
   "outputs": [],
   "source": [
    "tsarray1 = np.random.random_sample(size=(100,))\n",
    "tsarray2 = np.random.random_sample(size=(100,))"
   ]
  },
  {
   "cell_type": "code",
   "execution_count": 40,
   "metadata": {
    "collapsed": false
   },
   "outputs": [
    {
     "ename": "TypeError",
     "evalue": "'numpy.float64' object is not iterable",
     "output_type": "error",
     "traceback": [
      "\u001b[1;31m---------------------------------------------------------------------------\u001b[0m",
      "\u001b[1;31mTypeError\u001b[0m                                 Traceback (most recent call last)",
      "\u001b[1;32m<ipython-input-40-ef207cfabfc8>\u001b[0m in \u001b[0;36m<module>\u001b[1;34m()\u001b[0m\n\u001b[1;32m----> 1\u001b[1;33m \u001b[0mmin\u001b[0m\u001b[1;33m(\u001b[0m\u001b[1;33m[\u001b[0m\u001b[1;33m[\u001b[0m\u001b[0mmin\u001b[0m\u001b[1;33m(\u001b[0m\u001b[0mts1\u001b[0m \u001b[1;33m-\u001b[0m \u001b[0mts2\u001b[0m\u001b[1;33m)\u001b[0m \u001b[1;32mfor\u001b[0m \u001b[0mts1\u001b[0m \u001b[1;32min\u001b[0m \u001b[0mtsarray1\u001b[0m\u001b[1;33m]\u001b[0m \u001b[1;32mfor\u001b[0m \u001b[0mts2\u001b[0m \u001b[1;32min\u001b[0m \u001b[0mtsarray2\u001b[0m\u001b[1;33m]\u001b[0m\u001b[1;33m)\u001b[0m\u001b[1;33m\u001b[0m\u001b[0m\n\u001b[0m",
      "\u001b[1;31mTypeError\u001b[0m: 'numpy.float64' object is not iterable"
     ]
    }
   ],
   "source": [
    "min([[min(ts1 - ts2) for ts1 in tsarray1] for ts2 in tsarray2])"
   ]
  },
  {
   "cell_type": "code",
   "execution_count": 8,
   "metadata": {
    "collapsed": false
   },
   "outputs": [
    {
     "ename": "ValueError",
     "evalue": "The truth value of an array with more than one element is ambiguous. Use a.any() or a.all()",
     "output_type": "error",
     "traceback": [
      "\u001b[1;31m---------------------------------------------------------------------------\u001b[0m",
      "\u001b[1;31mValueError\u001b[0m                                Traceback (most recent call last)",
      "\u001b[1;32m<ipython-input-8-47882c3c7535>\u001b[0m in \u001b[0;36m<module>\u001b[1;34m()\u001b[0m\n\u001b[1;32m----> 1\u001b[1;33m \u001b[0mmin\u001b[0m\u001b[1;33m(\u001b[0m\u001b[1;33m[\u001b[0m\u001b[1;33m(\u001b[0m\u001b[0mtsarray2\u001b[0m \u001b[1;33m-\u001b[0m \u001b[0mts1\u001b[0m\u001b[1;33m)\u001b[0m \u001b[1;32mfor\u001b[0m \u001b[0mts1\u001b[0m \u001b[1;32min\u001b[0m \u001b[0mtsarray1\u001b[0m\u001b[1;33m]\u001b[0m\u001b[1;33m)\u001b[0m\u001b[1;33m\u001b[0m\u001b[0m\n\u001b[0m",
      "\u001b[1;31mValueError\u001b[0m: The truth value of an array with more than one element is ambiguous. Use a.any() or a.all()"
     ]
    }
   ],
   "source": [
    "min([(tsarray2 - ts1) for ts1 in tsarray1])"
   ]
  },
  {
   "cell_type": "code",
   "execution_count": 9,
   "metadata": {
    "collapsed": false
   },
   "outputs": [
    {
     "name": "stdout",
     "output_type": "stream",
     "text": [
      "> \u001b[1;32m<ipython-input-8-47882c3c7535>\u001b[0m(1)\u001b[0;36m<module>\u001b[1;34m()\u001b[0m\n",
      "\u001b[1;32m----> 1 \u001b[1;33m\u001b[0mmin\u001b[0m\u001b[1;33m(\u001b[0m\u001b[1;33m[\u001b[0m\u001b[1;33m(\u001b[0m\u001b[0mtsarray2\u001b[0m \u001b[1;33m-\u001b[0m \u001b[0mts1\u001b[0m\u001b[1;33m)\u001b[0m \u001b[1;32mfor\u001b[0m \u001b[0mts1\u001b[0m \u001b[1;32min\u001b[0m \u001b[0mtsarray1\u001b[0m\u001b[1;33m]\u001b[0m\u001b[1;33m)\u001b[0m\u001b[1;33m\u001b[0m\u001b[0m\n",
      "\u001b[0m\n",
      "ipdb> tsarray2\n",
      "array([  9.8,  23.2,  42. ])\n",
      "ipdb> tsarray1\n",
      "array([ 10.4,  12.1,  78.4])\n",
      "ipdb> [ts1 for ts1 in tsarray1]\n",
      "[10.4, 12.1, 78.400000000000006]\n",
      "ipdb> tsarray2 - ts1\n",
      "array([-68.6, -55.2, -36.4])\n",
      "ipdb> c\n"
     ]
    }
   ],
   "source": [
    "%debug"
   ]
  },
  {
   "cell_type": "code",
   "execution_count": 41,
   "metadata": {
    "collapsed": false
   },
   "outputs": [
    {
     "name": "stdout",
     "output_type": "stream",
     "text": [
      "100 loops, best of 3: 1.78 ms per loop\n"
     ]
    }
   ],
   "source": [
    "%timeit min([min([ts1 - ts2 for ts1 in tsarray1]) for ts2 in tsarray2])"
   ]
  },
  {
   "cell_type": "code",
   "execution_count": 42,
   "metadata": {
    "collapsed": false
   },
   "outputs": [
    {
     "name": "stdout",
     "output_type": "stream",
     "text": [
      "1000 loops, best of 3: 1.01 ms per loop\n"
     ]
    }
   ],
   "source": [
    "%timeit min([min(tsarray1 - ts2) for ts2 in tsarray2])"
   ]
  },
  {
   "cell_type": "code",
   "execution_count": 43,
   "metadata": {
    "collapsed": false
   },
   "outputs": [
    {
     "name": "stdout",
     "output_type": "stream",
     "text": [
      "The slowest run took 4.37 times longer than the fastest. This could mean that an intermediate result is being cached.\n",
      "10000 loops, best of 3: 27.4 µs per loop\n"
     ]
    }
   ],
   "source": [
    "%timeit (tsarray1[:,np.newaxis] - tsarray2[np.newaxis, :]).min()"
   ]
  },
  {
   "cell_type": "markdown",
   "metadata": {},
   "source": [
    "  - If you absolutely must use a instance method function, consider making a static reference to it:\n",
    "`gb = dataframe.groupby` will essentially cache that function, preventing costly lookups. *Remember: avoid costly lookups by avoiding classes!*\n",
    "\n",
    "  - Avoid deepcopy! Get clever with slicing! Deepcopying objects is usually a mistake, it costs you memory and time. Learn better in-place algorithms to do what you need to do, or figure one out yourself.\n",
    "  \n",
    "## Cython\n",
    "Not today! Maybe next time! Very freeing. Can actually be run on pure python and will give some speedup."
   ]
  },
  {
   "cell_type": "code",
   "execution_count": null,
   "metadata": {
    "collapsed": true
   },
   "outputs": [],
   "source": []
  }
 ],
 "metadata": {
  "celltoolbar": "Raw Cell Format",
  "kernelspec": {
   "display_name": "py27",
   "language": "python",
   "name": "py27"
  },
  "language_info": {
   "codemirror_mode": {
    "name": "ipython",
    "version": 3
   },
   "file_extension": ".py",
   "mimetype": "text/x-python",
   "name": "python",
   "nbconvert_exporter": "python",
   "pygments_lexer": "ipython3",
   "version": "3.5.1"
  }
 },
 "nbformat": 4,
 "nbformat_minor": 0
}
